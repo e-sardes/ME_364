{
  "cells": [
    {
      "cell_type": "markdown",
      "metadata": {
        "id": "IFHfaBkpFxIP"
      },
      "source": [
        "# Homework I - ME 364 (Spring 2022)"
      ]
    },
    {
      "cell_type": "markdown",
      "metadata": {
        "id": "U4tyzvlNF1hf"
      },
      "source": [
        "**Question I :** Define a list with 5 elements, where at least one of the elements is a tuple itself. Then write a for-loop to print each element on a new line."
      ]
    },
    {
      "cell_type": "code",
      "execution_count": null,
      "metadata": {
        "id": "fKzrQazoGSVp",
        "colab": {
          "base_uri": "https://localhost:8080/"
        },
        "outputId": "d8fd2c72-396b-411c-df7c-928d4eb35f4e"
      },
      "outputs": [
        {
          "output_type": "stream",
          "name": "stdout",
          "text": [
            "spicy\n",
            "                                   \n",
            "crunchy\n",
            "                                   \n",
            "salmon\n",
            "                                   \n",
            "bites\n",
            "                                   \n",
            "(2, 0, 2, 2)\n",
            "                                   \n"
          ]
        }
      ],
      "source": [
        "# Your code goes here\n",
        "lizlist=['spicy', \"crunchy\",\"salmon\", \"bites\",(2,0,2,2)]\n",
        "for var in lizlist:\n",
        "    print(var)\n",
        "    print('                                   ')\n"
      ]
    },
    {
      "cell_type": "markdown",
      "metadata": {
        "id": "jZEjzbzCN9oN"
      },
      "source": [
        "**Question II :** Define a list with numbers from 1 to 6. Then add the numbers 7, 8, 9, 10, and 11 to the list\n",
        "\n",
        "(a) using just one command\n",
        "\n",
        "(b) using a loop and adding the numbers one by one"
      ]
    },
    {
      "cell_type": "code",
      "execution_count": null,
      "metadata": {
        "id": "8Lluu7AtOVWK",
        "colab": {
          "base_uri": "https://localhost:8080/"
        },
        "outputId": "84ab52cf-a835-4d2b-a1bc-ca279041d295"
      },
      "outputs": [
        {
          "output_type": "stream",
          "name": "stdout",
          "text": [
            "[1, 2, 3, 4, 5, 6, 7, 8, 9, 10, 11]\n",
            "[1, 2, 3, 4, 5, 6, 7, 8, 9, 10, 11]\n"
          ]
        }
      ],
      "source": [
        "# Your code goes here\n",
        "numlista=[1,2,3,4,5,6]\n",
        "numlista.extend([7,8,9,10,11]) #a\n",
        "print(numlista)\n",
        "\n",
        "numlistb=[1,2,3,4,5,6]\n",
        "add=[7,8,9,10,11]\n",
        "for value in add:                   #b\n",
        "        numlistb.append(value) \n",
        "\n",
        "print(numlistb)\n",
        "    "
      ]
    },
    {
      "cell_type": "markdown",
      "metadata": {
        "id": "1_P4qlonGUsH"
      },
      "source": [
        "**Quesion III :** Write a code that adds a new $key-value$ (of your choice) to\n",
        "```python\n",
        "SampleDictionary = {'ME 364' : '9am', 'Pyhon for Data Analysis' : '6:10pm', 'Reinforcement Learning' : '10am'}\n",
        "```\n",
        "Removes the $key-value$ ``` 'Reinforcement Learning' : '10am' ```, and then creates a _list_ of the $values$.\n"
      ]
    },
    {
      "cell_type": "code",
      "execution_count": null,
      "metadata": {
        "id": "AEipFX43Fs0O",
        "colab": {
          "base_uri": "https://localhost:8080/"
        },
        "outputId": "c6da79d1-a760-49e0-9131-3a49741362de"
      },
      "outputs": [
        {
          "output_type": "stream",
          "name": "stdout",
          "text": [
            "{'ME 364': '9am', 'Pyhon for Data Analysis': '6:10pm', 'Reinforcement Learning': '10am'}\n",
            "{'ME 364': '9am', 'Pyhon for Data Analysis': '6:10pm', 'Reinforcement Learning': '10am', 'Cooper Union': ['sometimes problematic', 'i wish it was free']}\n",
            "{'ME 364': '9am', 'Pyhon for Data Analysis': '6:10pm', 'Cooper Union': ['sometimes problematic', 'i wish it was free']}\n",
            "\n",
            "\n"
          ]
        },
        {
          "output_type": "execute_result",
          "data": {
            "text/plain": [
              "['9am', '6:10pm', ['sometimes problematic', 'i wish it was free']]"
            ]
          },
          "metadata": {},
          "execution_count": 22
        }
      ],
      "source": [
        "# Your code goes here\n",
        "SampleDictionary = {'ME 364' : '9am', 'Pyhon for Data Analysis' : '6:10pm', 'Reinforcement Learning' : '10am'}\n",
        "print(SampleDictionary)\n",
        "SampleDictionary['Cooper Union']=['sometimes problematic', 'i wish it was free']\n",
        "print(SampleDictionary)\n",
        "del SampleDictionary['Reinforcement Learning']\n",
        "print(SampleDictionary)\n",
        "\n",
        "print('\\n')\n",
        "list(SampleDictionary.values())\n"
      ]
    },
    {
      "cell_type": "markdown",
      "metadata": {
        "id": "JbpFGBJsJIdJ"
      },
      "source": [
        "**Question IV :** Convert the following string\n",
        "```python\n",
        "Str = 'This string is written for homework I'\n",
        "```\n",
        "into a list and then slice it such that the outcome is\n",
        "```python\n",
        "['T', 'i', ' ', 't', 'i', 'g', 'i', ' ', 'r', 't', 'e', ' ', 'o', ' ', 'o', 'e', 'o', 'k', 'I']\n",
        "```"
      ]
    },
    {
      "cell_type": "code",
      "execution_count": null,
      "metadata": {
        "id": "NDfymP94I66c",
        "colab": {
          "base_uri": "https://localhost:8080/"
        },
        "outputId": "a5246fa1-f316-44b7-d6ba-9eecd866edf1"
      },
      "outputs": [
        {
          "output_type": "stream",
          "name": "stdout",
          "text": [
            "['T', 'h', 'i', 's', ' ', 's', 't', 'r', 'i', 'n', 'g', ' ', 'i', 's', ' ', 'w', 'r', 'i', 't', 't', 'e', 'n', ' ', 'f', 'o', 'r', ' ', 'h', 'o', 'm', 'e', 'w', 'o', 'r', 'k', ' ', 'I']\n"
          ]
        }
      ],
      "source": [
        "# Your code goes here\n",
        "Str = 'This string is written for homework I'\n",
        "\n",
        "def Convert(string):\n",
        "    list2slice=[]\n",
        "    list2slice[:0]=str\n",
        "    return list2slice\n",
        "\n",
        "str = 'This string is written for homework I'\n",
        "print(Convert(str))\n"
      ]
    },
    {
      "cell_type": "code",
      "source": [
        ""
      ],
      "metadata": {
        "id": "p-7Lr1HppfNz"
      },
      "execution_count": null,
      "outputs": []
    },
    {
      "cell_type": "markdown",
      "metadata": {
        "id": "EcNfbtWvL6Uq"
      },
      "source": [
        "**Question V :** Write a function that adds the numbers from 1 to N, where N is the input to the function and the sum from 1 to N is the output.  Test it with N=100."
      ]
    },
    {
      "cell_type": "code",
      "execution_count": null,
      "metadata": {
        "id": "ybMaX4YfLXaS",
        "colab": {
          "base_uri": "https://localhost:8080/"
        },
        "outputId": "5436754a-1f1d-462d-a9af-f737b933f515"
      },
      "outputs": [
        {
          "output_type": "stream",
          "name": "stdout",
          "text": [
            "sum: 5050 input: 100\n"
          ]
        }
      ],
      "source": [
        "# Your code goes here\n",
        "def addup(N):\n",
        "    return sum(range(N+1))\n",
        "\n",
        "print('sum:',addup(100), 'input:', 100)\n"
      ]
    },
    {
      "cell_type": "markdown",
      "metadata": {
        "id": "6XpTQKh2WN_m"
      },
      "source": [
        "**Question VI :** The Chudnovsky series for approximating $\\pi$ was used to obtain the world record for digits of $\\pi$, 2.7 trillion digits! The\n",
        "following series is a modified version of that series:\n",
        "\n",
        "$$\n",
        "12 \\sum_{k=1}^N\\frac{(-1)^k(6k)(1359+5451k)}{(3k)(k^3)(6^{3k+3/2})}\n",
        "$$\n",
        "\n",
        "Write a code that computs this series for N=10. \n",
        "\n",
        "<font color='blue'>Note:</font> The series no longer approximate $\\frac{1}{\\pi}$ since it has been modified.\n",
        "\n",
        "\n"
      ]
    },
    {
      "cell_type": "code",
      "execution_count": null,
      "metadata": {
        "id": "lRdly7x6WNqp",
        "colab": {
          "base_uri": "https://localhost:8080/"
        },
        "outputId": "9c9afae2-a47a-4578-8458-accdd8c2184e"
      },
      "outputs": [
        {
          "output_type": "stream",
          "name": "stdout",
          "text": [
            "All elements returned from series [-4.2903871266341165, 0.004470247029122214, -8.858204578516563e-06, 2.26257481523141e-08, -6.625259967339388e-11, 2.1131739840288563e-13, -7.146702745256284e-16, 2.522301883695887e-18, -9.195544392542531e-21, 3.439034293557828e-23]\n",
            "Sum of elements in series -4.285925715249867\n",
            "Answer (12*sum of elements): -51.431108582998405\n"
          ]
        }
      ],
      "source": [
        "# Your code goes here\n",
        "import numpy as np\n",
        "\n",
        "list=[]\n",
        "def chudnovsky(n):\n",
        "    k=1\n",
        "    while k<n:\n",
        "        chud=(((-1)**k)*(6*k)*(1359+(5451*k)))/(((3*k)*(k**3))*(6**((3*k)+(3/2))))\n",
        "        list.append(chud)\n",
        "        k += 1\n",
        "    return chud\n",
        "chudnovsky(11)\n",
        "print(\"All elements returned from series\",list)\n",
        "print(\"Sum of elements in series\",sum(list))\n",
        "Ans=12*sum(list)\n",
        "print(\"Answer (12*sum of elements):\",Ans)"
      ]
    },
    {
      "cell_type": "markdown",
      "metadata": {
        "id": "jq5XR6pIYD1y"
      },
      "source": [
        "**Question VII:** Consider matrix\n",
        "$A=\\begin{bmatrix} 10 & 15 & 8 & 23 & 13\\\\ 19 & 22 & 45 & 3 & 34\\\\ 52 & 55 & 40 & 16 & 12\\end{bmatrix}$\n",
        "\n",
        "(a) Find a matrix that its elements are the squre roots of this matrix's elements.\n",
        "\n",
        "(b) Calculate $(A^{T}A)^{-1}$\n",
        "\n",
        "(c) Find the sum of all the elements across the columns and standard deviation for each column.\n",
        "\n",
        "(d) Sort the elements down the rows.\n",
        "\n",
        "(e) Make a slice that has the elements on rows 2 and 3 and columns 2 to 4\n",
        "\n",
        "(f) Reshape the matrix into the following array:\n",
        "$\\begin{bmatrix} 10 & 15 & 8 & 23 & 13 & 19 & 22 & 45 & 3 & 34 & 52 & 55 & 40 & 16 & 12\\end{bmatrix}$\n",
        "\n"
      ]
    },
    {
      "cell_type": "code",
      "execution_count": null,
      "metadata": {
        "id": "U6GERgaKaQ-3",
        "colab": {
          "base_uri": "https://localhost:8080/"
        },
        "outputId": "a3cdd3bf-c22f-4211-b49c-d83ea9d6dd5b"
      },
      "outputs": [
        {
          "output_type": "stream",
          "name": "stdout",
          "text": [
            "Part A:\n",
            "  [[3.16227766 3.87298335 2.82842712 4.79583152 3.60555128]\n",
            " [4.35889894 4.69041576 6.70820393 1.73205081 5.83095189]\n",
            " [7.21110255 7.41619849 6.32455532 4.         3.46410162]]\n",
            "\n",
            "\n",
            "Part B:\n",
            " [[-3.63554147e+12  5.46172830e+12 -2.48306347e+12 -2.23757826e+12\n",
            "   1.98140753e+12]\n",
            " [ 7.33302725e+12 -8.28384971e+12  1.16884197e+12  2.07194931e+12\n",
            "  -4.67545909e+11]\n",
            " [-5.11237264e+12  3.84080113e+12  1.90316852e+12  2.83718640e+11\n",
            "  -2.17224365e+12]\n",
            " [-3.90937468e+12  3.43177975e+12  7.60156187e+11 -2.25057783e+11\n",
            "  -1.02214385e+12]\n",
            " [ 4.39804651e+12 -3.07822160e+12 -1.95468734e+12 -4.45913626e+11\n",
            "   2.16049008e+12]]\n",
            "\n",
            "\n",
            "Sum across columns for Part C:\n",
            " [[ 69]\n",
            " [123]\n",
            " [175]]\n",
            "SD for each column for Part C:\n",
            " [[18.05547009 17.44196727 16.39105447  8.28653526 10.14341604]]\n",
            "\n",
            "\n",
            "Part D:\n",
            "Original Array:\n",
            " [[10 15  8 23 13]\n",
            " [19 22 45  3 34]\n",
            " [52 55 40 16 12]]\n",
            "\n",
            "Array with values sorted down the rows:\n",
            " [[10 15  8  3 12]\n",
            " [19 22 40 16 13]\n",
            " [52 55 45 23 34]]\n",
            "\n",
            "\n",
            "Part E: [[22 45  3]\n",
            " [55 40 16]]\n",
            "\n",
            "\n",
            "Part F: [[10 15  8 23 13 19 22 45  3 34 52 55 40 16 12]]\n"
          ]
        }
      ],
      "source": [
        "# Your code goes here\n",
        "import numpy as np\n",
        "\n",
        "A=np.matrix([[10,15,8,23,13],[19,22,45,3,34],[52,55,40,16,12]])\n",
        "#print(A)\n",
        "B=np.sqrt(A)\n",
        "print('Part A:\\n ', B)\n",
        "print('\\n')\n",
        "Atr=np.transpose(A)\n",
        "A2=Atr.dot(A)\n",
        "#print(A2)\n",
        "#print('\\n')\n",
        "A3=np.linalg.inv(A2)\n",
        "print('Part B:\\n',A3)\n",
        "print('\\n')\n",
        "\n",
        "print('Sum across columns for Part C:\\n', np.sum(A,axis=1))\n",
        "print('SD for each column for Part C:\\n',np.std(A,axis=0))\n",
        "print('\\n')\n",
        "\n",
        "print('Part D:')\n",
        "a = np.array([[10,15,8,23,13], [19,22,45,3,34], [52,55,40,16,12]])\n",
        "print('Original Array:\\n',a)\n",
        "print('')\n",
        "a.sort(axis=0)              # sorting the values across the columns\n",
        "print('Array with values sorted down the rows:\\n',a)\n",
        "\n",
        "print('\\n')\n",
        "\n",
        "print('Part E:', A[1:3,1:4])\n",
        "\n",
        "print('\\n')\n",
        "\n",
        "A4=A.reshape((1,15 ))\n",
        "print('Part F:',A4)\n",
        "\n"
      ]
    }
  ],
  "metadata": {
    "colab": {
      "name": "SARDES_Homework_1.ipynb",
      "provenance": [],
      "collapsed_sections": []
    },
    "kernelspec": {
      "display_name": "Python 3",
      "name": "python3"
    },
    "language_info": {
      "name": "python"
    }
  },
  "nbformat": 4,
  "nbformat_minor": 0
}